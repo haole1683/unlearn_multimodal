{
 "cells": [
  {
   "cell_type": "code",
   "execution_count": 5,
   "id": "27d5763f-0ca5-4ce8-bfe3-635b1aee2539",
   "metadata": {},
   "outputs": [],
   "source": [
    "from utils.data_utils import load_class_dataset, ToTensorTrans"
   ]
  },
  {
   "cell_type": "code",
   "execution_count": 7,
   "id": "523e3310-e838-4892-b496-9eab7ea5f3a5",
   "metadata": {},
   "outputs": [
    {
     "name": "stdout",
     "output_type": "stream",
     "text": [
      "Files already downloaded and verified\n",
      "Files already downloaded and verified\n"
     ]
    }
   ],
   "source": [
    "cifar10_train_ds, cifar10_test_ds = load_class_dataset(\"CIFAR10\", ToTensorTrans)"
   ]
  },
  {
   "cell_type": "code",
   "execution_count": 8,
   "id": "92b003ab-c080-4533-b066-1df6af963e6f",
   "metadata": {},
   "outputs": [
    {
     "data": {
      "text/plain": [
       "['airplane',\n",
       " 'automobile',\n",
       " 'bird',\n",
       " 'cat',\n",
       " 'deer',\n",
       " 'dog',\n",
       " 'frog',\n",
       " 'horse',\n",
       " 'ship',\n",
       " 'truck']"
      ]
     },
     "execution_count": 8,
     "metadata": {},
     "output_type": "execute_result"
    }
   ],
   "source": [
    "cifar10_train_ds.classes"
   ]
  },
  {
   "cell_type": "code",
   "execution_count": 10,
   "id": "47729df0-701f-4237-b576-ec5f43e2929b",
   "metadata": {},
   "outputs": [
    {
     "data": {
      "text/plain": [
       "0"
      ]
     },
     "execution_count": 10,
     "metadata": {},
     "output_type": "execute_result"
    }
   ],
   "source": [
    "cifar10_train_ds.class_to_idx['airplane']"
   ]
  },
  {
   "cell_type": "code",
   "execution_count": null,
   "id": "c21d9342-5bbf-4c07-83dc-1013fb00e4c3",
   "metadata": {},
   "outputs": [],
   "source": [
    "correct_count = {}"
   ]
  },
  {
   "cell_type": "code",
   "execution_count": null,
   "id": "05c60dea-0231-47a6-81e5-8b6497deb831",
   "metadata": {},
   "outputs": [],
   "source": [
    "for class_name in cifar10_train_ds.classes:\n",
    "    class_label = cifar10_train_ds.class_to_idx[class_name]\n",
    "    correct_count[class_name] += ((predicted == labels) & (labels == cat_label)).sum().item()"
   ]
  },
  {
   "cell_type": "code",
   "execution_count": 11,
   "id": "19fc3530-d7fb-4a59-8500-1ce783f18b6f",
   "metadata": {},
   "outputs": [],
   "source": [
    "\n",
    "def zero_shot_with_each_class_acc(test_dataloader,model,zeroshot_weights,device):\n",
    "    cat_correct, cat_total = 0,0\n",
    "    correct_count = {}\n",
    "\n",
    "    for class_name in test_dataloader.classes:\n",
    "        correct_count[class_name] = 0\n",
    "        \n",
    "    with torch.no_grad():\n",
    "        top1, top5, n = 0., 0., 0.\n",
    "        tgt_top1 = 0.\n",
    "        for i, (images, target) in enumerate(tqdm(test_dataloader)):\n",
    "            images = images.to(device)\n",
    "            target = target.to(device)\n",
    "\n",
    "            image_features = model.encode_image(images)\n",
    "                    \n",
    "            image_features /= image_features.norm(dim=-1, keepdim=True)\n",
    "            logits = 100. * image_features @ zeroshot_weights\n",
    "\n",
    "            # measure misclassification accuracy\n",
    "            acc1, acc5 = cal_accuracy(logits, target, topk=(1, 5))\n",
    "            top1 += acc1\n",
    "            top5 += acc5\n",
    "            \n",
    "            predicted = logits.argmax(1)\n",
    "\n",
    "            for class_name in cifar10_train_ds.classes:\n",
    "                class_label = cifar10_train_ds.class_to_idx[class_name]\n",
    "                correct_count[class_name] += ((predicted == labels) & (labels == class_label)).sum().item()\n",
    "                \n",
    "            n += images.size(0)\n",
    "\n",
    "    top1 = (top1 / n) * 100\n",
    "    top5 = (top5 / n) * 100\n",
    " \n",
    "    print(f\"Top-1 accuracy: {top1}\")\n",
    "    print(f\"Top-5 accuracy: {top5}\")\n",
    "    for key in correct_count.keys():\n",
    "        print(\"The category {} : acc: {}%\".format(key, correct_count[key] / 1000)\n",
    "    return top1, top5"
   ]
  },
  {
   "cell_type": "code",
   "execution_count": 1,
   "id": "0b00a561-bbd8-4564-958c-f040863b7aa4",
   "metadata": {},
   "outputs": [],
   "source": [
    "from utils.data_utils import ImageTextDatasetFromSupervisedDatasetPoison"
   ]
  },
  {
   "cell_type": "code",
   "execution_count": null,
   "id": "40da78f6-aba0-4ef9-bd73-08ca2b7bd894",
   "metadata": {},
   "outputs": [],
   "source": []
  },
  {
   "cell_type": "code",
   "execution_count": null,
   "id": "396a1e28-f1c8-4691-8435-e6d96ba1dccb",
   "metadata": {},
   "outputs": [],
   "source": []
  },
  {
   "cell_type": "code",
   "execution_count": 2,
   "id": "800a2a1d-3ca1-4936-985f-6959dd4863cb",
   "metadata": {},
   "outputs": [],
   "source": [
    "import torch"
   ]
  },
  {
   "cell_type": "code",
   "execution_count": 3,
   "id": "bb35e6c2-28d6-4dbf-856e-65aab282c09f",
   "metadata": {},
   "outputs": [],
   "source": [
    "noise_path = \"/remote-home/songtianwei/research/unlearn_multimodal/output/train_g_unlearn/cat_noise_ori_RN50.pt\""
   ]
  },
  {
   "cell_type": "code",
   "execution_count": 4,
   "id": "58dd3268-13f6-4f16-bf42-9a10e7a4f3b1",
   "metadata": {},
   "outputs": [],
   "source": [
    "noise = torch.load(noise_path)"
   ]
  },
  {
   "cell_type": "code",
   "execution_count": 5,
   "id": "9e451cee-53d8-40a6-8c08-40441334475c",
   "metadata": {},
   "outputs": [
    {
     "data": {
      "text/plain": [
       "torch.Size([3386, 3, 224, 224])"
      ]
     },
     "execution_count": 5,
     "metadata": {},
     "output_type": "execute_result"
    }
   ],
   "source": [
    "noise.shape"
   ]
  },
  {
   "cell_type": "code",
   "execution_count": 6,
   "id": "acdf7ec0-bbe2-4367-8798-0b7f45b306ac",
   "metadata": {},
   "outputs": [],
   "source": [
    "json_path = \"/remote-home/songtianwei/research/unlearn_multimodal/data/laion-cat-with-index.json\""
   ]
  },
  {
   "cell_type": "code",
   "execution_count": 9,
   "id": "01d15089-bb7e-4e1f-9134-9990eadd587f",
   "metadata": {},
   "outputs": [],
   "source": [
    "import json"
   ]
  },
  {
   "cell_type": "code",
   "execution_count": 10,
   "id": "52ba2a59-6dea-4664-abf2-03ec56c09812",
   "metadata": {},
   "outputs": [],
   "source": [
    "json_data = json.load(open(json_path, \"r\"))"
   ]
  },
  {
   "cell_type": "code",
   "execution_count": 11,
   "id": "4e093eb5-c6ca-4b35-8731-0c81c2003544",
   "metadata": {},
   "outputs": [
    {
     "data": {
      "text/plain": [
       "3386"
      ]
     },
     "execution_count": 11,
     "metadata": {},
     "output_type": "execute_result"
    }
   ],
   "source": [
    "len(json_data)"
   ]
  },
  {
   "cell_type": "code",
   "execution_count": null,
   "id": "e9b94068-5401-4201-9b5b-d3976296a47b",
   "metadata": {},
   "outputs": [],
   "source": []
  },
  {
   "cell_type": "code",
   "execution_count": null,
   "id": "ae778992-9c3a-4ed0-b40b-4d1f35831c91",
   "metadata": {},
   "outputs": [],
   "source": []
  },
  {
   "cell_type": "code",
   "execution_count": 4,
   "id": "58b03003-4dc0-4e3e-915e-8353ddebdde8",
   "metadata": {},
   "outputs": [],
   "source": [
    "from torchvision.datasets import  MNIST, CIFAR10, CIFAR100, ImageNet, STL10, GTSRB\n",
    "import os"
   ]
  },
  {
   "cell_type": "code",
   "execution_count": 6,
   "id": "ec2e1812-58a8-4b17-a8c5-288c1a597a81",
   "metadata": {},
   "outputs": [
    {
     "name": "stdout",
     "output_type": "stream",
     "text": [
      "Files already downloaded and verified\n",
      "Files already downloaded and verified\n"
     ]
    }
   ],
   "source": [
    "unlearnable_train_dataset = STL10(root=os.path.expanduser(\"~/.cache\"), download=True, split='train', transform=None)\n",
    "test_dataset = STL10(root=os.path.expanduser(\"~/.cache\"), download=True, split='test', transform=None)"
   ]
  },
  {
   "cell_type": "code",
   "execution_count": 7,
   "id": "3979bcf2-a7b3-43ad-9d45-701f83041972",
   "metadata": {},
   "outputs": [
    {
     "data": {
      "text/plain": [
       "['airplane',\n",
       " 'bird',\n",
       " 'car',\n",
       " 'cat',\n",
       " 'deer',\n",
       " 'dog',\n",
       " 'horse',\n",
       " 'monkey',\n",
       " 'ship',\n",
       " 'truck']"
      ]
     },
     "execution_count": 7,
     "metadata": {},
     "output_type": "execute_result"
    }
   ],
   "source": [
    "unlearnable_train_dataset.classes"
   ]
  },
  {
   "cell_type": "code",
   "execution_count": 10,
   "id": "42a33353-218d-4713-b0ee-c4de19e2303b",
   "metadata": {},
   "outputs": [
    {
     "data": {
      "text/plain": [
       "array([1, 5, 1, ..., 1, 7, 5], dtype=uint8)"
      ]
     },
     "execution_count": 10,
     "metadata": {},
     "output_type": "execute_result"
    }
   ],
   "source": [
    "unlearnable_train_dataset.labels"
   ]
  },
  {
   "cell_type": "code",
   "execution_count": 8,
   "id": "6f373a9c-0a11-43fe-979f-da9bf9c7e324",
   "metadata": {},
   "outputs": [
    {
     "data": {
      "text/plain": [
       "(<PIL.Image.Image image mode=RGB size=96x96>, 1)"
      ]
     },
     "execution_count": 8,
     "metadata": {},
     "output_type": "execute_result"
    }
   ],
   "source": [
    "unlearnable_train_dataset[0]"
   ]
  },
  {
   "cell_type": "code",
   "execution_count": 13,
   "id": "c2c06b96-fc69-4d7b-94da-2a0bf26227fb",
   "metadata": {
    "scrolled": true
   },
   "outputs": [
    {
     "data": {
      "text/plain": [
       "(3, 96, 96)"
      ]
     },
     "execution_count": 13,
     "metadata": {},
     "output_type": "execute_result"
    }
   ],
   "source": [
    "unlearnable_train_dataset.data[0].shape"
   ]
  },
  {
   "cell_type": "code",
   "execution_count": null,
   "id": "a7d66742-833e-4846-bbee-a2ac95e9fe51",
   "metadata": {},
   "outputs": [],
   "source": []
  },
  {
   "cell_type": "code",
   "execution_count": null,
   "id": "4799b8bd-345e-4222-9173-ea24d8cc5523",
   "metadata": {},
   "outputs": [],
   "source": []
  },
  {
   "cell_type": "code",
   "execution_count": null,
   "id": "be25a4d3-09af-4e75-8b81-235d3c085634",
   "metadata": {},
   "outputs": [],
   "source": []
  },
  {
   "cell_type": "markdown",
   "id": "02692e99-5ef5-4d42-9974-0685495792d0",
   "metadata": {},
   "source": [
    "### Test new noise limit"
   ]
  },
  {
   "cell_type": "code",
   "execution_count": 26,
   "id": "18de70a9-d20b-4426-9c64-941ca8f7feb1",
   "metadata": {},
   "outputs": [],
   "source": [
    "import torch\n",
    "import torch.nn as nn"
   ]
  },
  {
   "cell_type": "code",
   "execution_count": 27,
   "id": "c4dd1a40-f8c9-4c49-b21f-ca58aca04fb8",
   "metadata": {},
   "outputs": [],
   "source": [
    "noise = torch.randn((3,224,224))\n",
    "epsilon = 16"
   ]
  },
  {
   "cell_type": "code",
   "execution_count": 28,
   "id": "6e2156d1-071f-40cc-85cf-e9ed1ea66ad8",
   "metadata": {},
   "outputs": [],
   "source": [
    "activation_fn = nn.Tanh()"
   ]
  },
  {
   "cell_type": "code",
   "execution_count": 6,
   "id": "1b668560-30a1-4b0f-a8bc-be33b6800043",
   "metadata": {},
   "outputs": [],
   "source": [
    "noise_act = activation_fn(noise)"
   ]
  },
  {
   "cell_type": "code",
   "execution_count": 10,
   "id": "15ebec2e-0535-4129-bd72-ff9368e4fca8",
   "metadata": {},
   "outputs": [],
   "source": [
    "new_noise= noise_act * epsilon"
   ]
  },
  {
   "cell_type": "code",
   "execution_count": 11,
   "id": "9f638aaf-cb09-49a5-97c9-6f8e96d419ed",
   "metadata": {},
   "outputs": [
    {
     "data": {
      "text/plain": [
       "tensor([[[ -8.0257,  -3.2066, -11.6865,  ...,   6.8231,  13.0621,   4.3871],\n",
       "         [  2.7888, -10.5338,   9.2150,  ...,   6.1965,   4.4260, -13.4028],\n",
       "         [ -1.1098, -14.0179,  -6.3653,  ...,  12.4304,   7.9795,  10.6626],\n",
       "         ...,\n",
       "         [ 15.7209,  10.1521,  -7.6196,  ...,   6.1915,   8.6546,  -7.0962],\n",
       "         [-12.2375,  -6.6838,  -1.1699,  ...,  11.1405,   1.4089,  -8.1042],\n",
       "         [  8.3487, -13.4967, -14.2351,  ...,  13.5251,   0.2648,  13.9210]],\n",
       "\n",
       "        [[-12.5275,   3.6101, -12.4621,  ...,  13.0774,   0.2352, -14.1787],\n",
       "         [  9.5216,  10.4093,   9.3194,  ..., -14.4976,   6.2690, -12.9974],\n",
       "         [ -7.5865,  14.4080, -12.8142,  ...,  -8.0115,  12.0777,  -5.5887],\n",
       "         ...,\n",
       "         [ -8.7865,  15.3025,  10.7933,  ...,  14.7697, -14.6533, -12.9016],\n",
       "         [ -3.6213,  -9.2304,  12.4672,  ...,  -5.3924,  -3.7736,  -0.6225],\n",
       "         [ 12.7814,  -4.1572,  -8.3469,  ...,  14.5863,  14.3668,  13.3752]],\n",
       "\n",
       "        [[ 11.5873, -15.5403,  15.5853,  ..., -15.4844, -10.6402,  -5.4406],\n",
       "         [  7.0568,  13.2074,  14.9821,  ...,   0.9748,  -3.1352, -12.5634],\n",
       "         [ 11.2993,   2.1775,  -9.7040,  ...,  11.7378, -13.4162,   8.2114],\n",
       "         ...,\n",
       "         [-12.8111,   2.1889,   6.8387,  ..., -13.3692,  -6.4617, -14.8438],\n",
       "         [-11.3550,   4.2526,  -6.0100,  ..., -14.8242,  10.2532,  -1.5349],\n",
       "         [  6.7849,  -4.3866,   5.8682,  ..., -11.4580, -11.3457,   1.3051]]])"
      ]
     },
     "execution_count": 11,
     "metadata": {},
     "output_type": "execute_result"
    }
   ],
   "source": [
    "new_noise"
   ]
  },
  {
   "cell_type": "code",
   "execution_count": 47,
   "id": "aac5a6c7-db7f-4909-8d1f-0623c7fbf5a4",
   "metadata": {},
   "outputs": [],
   "source": [
    "from utils.noise_utils import limit_noise_with_activation"
   ]
  },
  {
   "cell_type": "code",
   "execution_count": 48,
   "id": "df82f264-3fa6-4b6c-84ee-c51672f17cdb",
   "metadata": {},
   "outputs": [],
   "source": [
    "output = torch.randn((32,3,224,224))\n",
    "epsilon = 16"
   ]
  },
  {
   "cell_type": "code",
   "execution_count": 49,
   "id": "907e0e3c-1922-4b59-8120-8447c69b62c9",
   "metadata": {},
   "outputs": [
    {
     "data": {
      "text/plain": [
       "torch.Size([32, 3, 224, 224])"
      ]
     },
     "execution_count": 49,
     "metadata": {},
     "output_type": "execute_result"
    }
   ],
   "source": [
    "output.shape"
   ]
  },
  {
   "cell_type": "code",
   "execution_count": 50,
   "id": "f83ec114-63a3-4b07-8dce-7567055618d6",
   "metadata": {},
   "outputs": [],
   "source": [
    "activation_fn = nn.Tanh()\n",
    "    \n",
    "delta_im = activation_fn(output)\n",
    "delta_im = delta_im * epsilon / 255. "
   ]
  },
  {
   "cell_type": "code",
   "execution_count": 51,
   "id": "0c803b61-560f-4811-98a0-550ca7c96c8c",
   "metadata": {
    "collapsed": true,
    "jupyter": {
     "outputs_hidden": true
    }
   },
   "outputs": [
    {
     "data": {
      "text/plain": [
       "tensor([[[[-0.0476, -0.0617,  0.0509,  ...,  0.0584, -0.0171, -0.0271],\n",
       "          [-0.0358,  0.0038,  0.0273,  ...,  0.0471,  0.0458, -0.0432],\n",
       "          [ 0.0563, -0.0184,  0.0241,  ..., -0.0419,  0.0160, -0.0037],\n",
       "          ...,\n",
       "          [-0.0175, -0.0020,  0.0139,  ..., -0.0071, -0.0386,  0.0436],\n",
       "          [ 0.0152,  0.0282, -0.0531,  ...,  0.0155, -0.0299, -0.0050],\n",
       "          [-0.0247, -0.0526,  0.0435,  ...,  0.0127, -0.0281, -0.0074]],\n",
       "\n",
       "         [[-0.0115,  0.0241,  0.0328,  ..., -0.0532, -0.0517,  0.0431],\n",
       "          [ 0.0048,  0.0517,  0.0326,  ..., -0.0096, -0.0388,  0.0145],\n",
       "          [-0.0478, -0.0144, -0.0270,  ..., -0.0189,  0.0495, -0.0118],\n",
       "          ...,\n",
       "          [-0.0522, -0.0601, -0.0570,  ...,  0.0266,  0.0259,  0.0485],\n",
       "          [ 0.0077, -0.0444,  0.0587,  ...,  0.0610,  0.0368,  0.0156],\n",
       "          [ 0.0603,  0.0390,  0.0476,  ..., -0.0017, -0.0518, -0.0338]],\n",
       "\n",
       "         [[ 0.0339, -0.0517, -0.0210,  ...,  0.0500,  0.0549,  0.0423],\n",
       "          [-0.0139,  0.0411, -0.0225,  ...,  0.0042, -0.0018, -0.0537],\n",
       "          [-0.0151, -0.0401,  0.0363,  ..., -0.0066, -0.0334, -0.0317],\n",
       "          ...,\n",
       "          [-0.0509,  0.0607,  0.0617,  ...,  0.0444, -0.0488, -0.0197],\n",
       "          [-0.0468, -0.0395, -0.0588,  ...,  0.0128, -0.0349,  0.0363],\n",
       "          [-0.0374, -0.0036,  0.0513,  ..., -0.0132, -0.0533, -0.0294]]],\n",
       "\n",
       "\n",
       "        [[[-0.0397, -0.0125,  0.0468,  ..., -0.0536,  0.0578,  0.0217],\n",
       "          [ 0.0308, -0.0593, -0.0510,  ...,  0.0558, -0.0599,  0.0351],\n",
       "          [ 0.0582, -0.0517, -0.0443,  ..., -0.0269,  0.0453, -0.0187],\n",
       "          ...,\n",
       "          [-0.0459, -0.0333,  0.0123,  ...,  0.0465,  0.0608, -0.0624],\n",
       "          [ 0.0250,  0.0492, -0.0514,  ..., -0.0582,  0.0133,  0.0106],\n",
       "          [-0.0575,  0.0408,  0.0249,  ...,  0.0380,  0.0241,  0.0573]],\n",
       "\n",
       "         [[-0.0465,  0.0289, -0.0276,  ...,  0.0158,  0.0288,  0.0216],\n",
       "          [ 0.0119, -0.0106,  0.0595,  ...,  0.0618, -0.0593, -0.0104],\n",
       "          [ 0.0341, -0.0607,  0.0318,  ..., -0.0121, -0.0016,  0.0212],\n",
       "          ...,\n",
       "          [ 0.0388, -0.0307,  0.0020,  ...,  0.0389,  0.0272,  0.0501],\n",
       "          [ 0.0030, -0.0404, -0.0284,  ...,  0.0330, -0.0488, -0.0079],\n",
       "          [-0.0310, -0.0508,  0.0409,  ..., -0.0606,  0.0305, -0.0324]],\n",
       "\n",
       "         [[-0.0514, -0.0190,  0.0369,  ..., -0.0404, -0.0523,  0.0018],\n",
       "          [ 0.0333,  0.0594,  0.0119,  ...,  0.0382,  0.0376, -0.0394],\n",
       "          [-0.0517, -0.0605, -0.0563,  ..., -0.0412,  0.0033,  0.0419],\n",
       "          ...,\n",
       "          [-0.0379, -0.0403,  0.0344,  ..., -0.0092, -0.0254,  0.0521],\n",
       "          [ 0.0098,  0.0491, -0.0413,  ..., -0.0545, -0.0394,  0.0524],\n",
       "          [-0.0313, -0.0047, -0.0057,  ...,  0.0133,  0.0058,  0.0446]]],\n",
       "\n",
       "\n",
       "        [[[-0.0132, -0.0360,  0.0395,  ...,  0.0322,  0.0008,  0.0541],\n",
       "          [ 0.0538,  0.0145,  0.0588,  ..., -0.0452,  0.0616, -0.0234],\n",
       "          [-0.0078,  0.0542,  0.0388,  ...,  0.0106, -0.0463,  0.0131],\n",
       "          ...,\n",
       "          [ 0.0419, -0.0418, -0.0520,  ..., -0.0386,  0.0563,  0.0142],\n",
       "          [ 0.0584, -0.0551,  0.0435,  ...,  0.0327, -0.0537, -0.0173],\n",
       "          [-0.0398, -0.0446,  0.0490,  ...,  0.0261, -0.0411,  0.0098]],\n",
       "\n",
       "         [[ 0.0113,  0.0173,  0.0419,  ...,  0.0159, -0.0169,  0.0081],\n",
       "          [ 0.0536, -0.0390,  0.0566,  ...,  0.0408,  0.0455,  0.0046],\n",
       "          [-0.0115, -0.0218, -0.0308,  ..., -0.0305,  0.0621, -0.0446],\n",
       "          ...,\n",
       "          [-0.0510,  0.0359, -0.0300,  ...,  0.0492, -0.0113,  0.0613],\n",
       "          [-0.0457,  0.0079,  0.0441,  ...,  0.0164,  0.0500,  0.0205],\n",
       "          [ 0.0621, -0.0068, -0.0606,  ...,  0.0016,  0.0031, -0.0350]],\n",
       "\n",
       "         [[-0.0280, -0.0270, -0.0595,  ...,  0.0217,  0.0244,  0.0080],\n",
       "          [ 0.0610,  0.0177, -0.0381,  ...,  0.0559,  0.0148,  0.0444],\n",
       "          [-0.0586,  0.0403,  0.0602,  ..., -0.0392,  0.0386, -0.0352],\n",
       "          ...,\n",
       "          [ 0.0550,  0.0196, -0.0316,  ..., -0.0074, -0.0206,  0.0615],\n",
       "          [ 0.0071,  0.0147, -0.0368,  ..., -0.0530,  0.0579,  0.0407],\n",
       "          [-0.0611, -0.0278,  0.0314,  ..., -0.0289,  0.0417, -0.0549]]],\n",
       "\n",
       "\n",
       "        ...,\n",
       "\n",
       "\n",
       "        [[[-0.0026, -0.0392, -0.0577,  ..., -0.0543,  0.0560,  0.0126],\n",
       "          [ 0.0435,  0.0486, -0.0592,  ..., -0.0311,  0.0551,  0.0561],\n",
       "          [-0.0527,  0.0196, -0.0326,  ..., -0.0214, -0.0573, -0.0551],\n",
       "          ...,\n",
       "          [ 0.0132, -0.0140, -0.0493,  ..., -0.0454, -0.0549,  0.0088],\n",
       "          [-0.0272, -0.0070,  0.0184,  ...,  0.0237, -0.0402, -0.0076],\n",
       "          [ 0.0526, -0.0605, -0.0498,  ..., -0.0046, -0.0279, -0.0172]],\n",
       "\n",
       "         [[ 0.0555,  0.0571, -0.0269,  ..., -0.0522, -0.0624, -0.0455],\n",
       "          [ 0.0222,  0.0524,  0.0223,  ...,  0.0182, -0.0357,  0.0581],\n",
       "          [ 0.0231,  0.0525, -0.0210,  ..., -0.0295, -0.0489, -0.0534],\n",
       "          ...,\n",
       "          [ 0.0303,  0.0409,  0.0183,  ...,  0.0192,  0.0622, -0.0109],\n",
       "          [-0.0445, -0.0581, -0.0360,  ..., -0.0337, -0.0100, -0.0365],\n",
       "          [-0.0531,  0.0576,  0.0237,  ...,  0.0503, -0.0616, -0.0583]],\n",
       "\n",
       "         [[-0.0177, -0.0587,  0.0320,  ..., -0.0338, -0.0317, -0.0373],\n",
       "          [-0.0433, -0.0444,  0.0552,  ...,  0.0548,  0.0116, -0.0557],\n",
       "          [ 0.0511, -0.0132, -0.0292,  ..., -0.0116,  0.0455, -0.0243],\n",
       "          ...,\n",
       "          [ 0.0564,  0.0377,  0.0174,  ..., -0.0547,  0.0172, -0.0203],\n",
       "          [-0.0302,  0.0002,  0.0146,  ..., -0.0109,  0.0483,  0.0253],\n",
       "          [-0.0176,  0.0325,  0.0088,  ...,  0.0020, -0.0049, -0.0440]]],\n",
       "\n",
       "\n",
       "        [[[-0.0536, -0.0590, -0.0002,  ...,  0.0041, -0.0552,  0.0335],\n",
       "          [-0.0398, -0.0376,  0.0368,  ...,  0.0021, -0.0418,  0.0547],\n",
       "          [-0.0556,  0.0532, -0.0403,  ..., -0.0351,  0.0390, -0.0333],\n",
       "          ...,\n",
       "          [ 0.0601, -0.0006,  0.0586,  ..., -0.0252,  0.0360,  0.0581],\n",
       "          [ 0.0497,  0.0269, -0.0253,  ..., -0.0240, -0.0242, -0.0605],\n",
       "          [-0.0489,  0.0559,  0.0137,  ...,  0.0405, -0.0614,  0.0240]],\n",
       "\n",
       "         [[-0.0444,  0.0410, -0.0562,  ..., -0.0525,  0.0362, -0.0455],\n",
       "          [ 0.0413, -0.0526,  0.0169,  ..., -0.0603,  0.0119, -0.0616],\n",
       "          [ 0.0471, -0.0571,  0.0022,  ...,  0.0305,  0.0020, -0.0485],\n",
       "          ...,\n",
       "          [-0.0475, -0.0272, -0.0591,  ...,  0.0531, -0.0525,  0.0573],\n",
       "          [ 0.0439, -0.0174, -0.0128,  ..., -0.0418, -0.0069,  0.0409],\n",
       "          [ 0.0046,  0.0603, -0.0009,  ..., -0.0344,  0.0147,  0.0449]],\n",
       "\n",
       "         [[-0.0537, -0.0025,  0.0584,  ...,  0.0108, -0.0551,  0.0257],\n",
       "          [-0.0467, -0.0524, -0.0245,  ...,  0.0242, -0.0092,  0.0459],\n",
       "          [ 0.0338, -0.0228,  0.0056,  ..., -0.0130, -0.0575, -0.0105],\n",
       "          ...,\n",
       "          [ 0.0413, -0.0442, -0.0461,  ...,  0.0588,  0.0598, -0.0621],\n",
       "          [ 0.0081,  0.0587, -0.0299,  ...,  0.0201, -0.0221,  0.0368],\n",
       "          [-0.0466,  0.0397,  0.0296,  ...,  0.0437,  0.0438,  0.0386]]],\n",
       "\n",
       "\n",
       "        [[[ 0.0304,  0.0542,  0.0412,  ..., -0.0133, -0.0577,  0.0338],\n",
       "          [-0.0417, -0.0412, -0.0523,  ..., -0.0198,  0.0599, -0.0606],\n",
       "          [ 0.0594,  0.0123,  0.0192,  ...,  0.0402,  0.0364, -0.0277],\n",
       "          ...,\n",
       "          [-0.0404, -0.0584, -0.0411,  ..., -0.0458,  0.0018, -0.0512],\n",
       "          [-0.0434, -0.0408, -0.0615,  ...,  0.0559,  0.0413, -0.0557],\n",
       "          [ 0.0310, -0.0359, -0.0165,  ..., -0.0570, -0.0203,  0.0186]],\n",
       "\n",
       "         [[ 0.0591, -0.0243, -0.0415,  ...,  0.0428,  0.0376, -0.0039],\n",
       "          [ 0.0235,  0.0527,  0.0430,  ...,  0.0152,  0.0197, -0.0173],\n",
       "          [ 0.0559, -0.0187, -0.0090,  ..., -0.0614, -0.0619,  0.0397],\n",
       "          ...,\n",
       "          [ 0.0575, -0.0226, -0.0211,  ...,  0.0513,  0.0619, -0.0029],\n",
       "          [ 0.0092,  0.0418,  0.0453,  ...,  0.0586, -0.0434, -0.0365],\n",
       "          [ 0.0028, -0.0030, -0.0620,  ...,  0.0283, -0.0171,  0.0593]],\n",
       "\n",
       "         [[ 0.0036, -0.0608,  0.0485,  ...,  0.0396, -0.0157, -0.0386],\n",
       "          [-0.0626, -0.0164, -0.0481,  ...,  0.0302, -0.0424, -0.0515],\n",
       "          [ 0.0470,  0.0027,  0.0603,  ...,  0.0344, -0.0129,  0.0187],\n",
       "          ...,\n",
       "          [-0.0600,  0.0329,  0.0372,  ..., -0.0113,  0.0621, -0.0361],\n",
       "          [ 0.0120, -0.0116, -0.0022,  ..., -0.0608, -0.0500, -0.0546],\n",
       "          [ 0.0255, -0.0067,  0.0341,  ...,  0.0350, -0.0027, -0.0593]]]])"
      ]
     },
     "execution_count": 51,
     "metadata": {},
     "output_type": "execute_result"
    }
   ],
   "source": [
    "delta_im"
   ]
  },
  {
   "cell_type": "code",
   "execution_count": 43,
   "id": "107e8946-99ce-4f11-bf03-de394014f502",
   "metadata": {},
   "outputs": [],
   "source": [
    "import torch.nn.functional as F"
   ]
  },
  {
   "cell_type": "code",
   "execution_count": 52,
   "id": "bb193b56-3d50-47c1-8399-3287fa7894cd",
   "metadata": {},
   "outputs": [],
   "source": [
    "delta_im1 = F.interpolate(delta_im, (224,224))"
   ]
  },
  {
   "cell_type": "code",
   "execution_count": 36,
   "id": "7b7235ec-26e3-4a08-9410-85ef6794f08a",
   "metadata": {},
   "outputs": [
    {
     "data": {
      "text/plain": [
       "torch.Size([32, 3, 224, 224])"
      ]
     },
     "execution_count": 36,
     "metadata": {},
     "output_type": "execute_result"
    }
   ],
   "source": [
    "noise.shape"
   ]
  },
  {
   "cell_type": "code",
   "execution_count": 46,
   "id": "d5669393-c28a-40e0-a238-1ea9257de0fe",
   "metadata": {},
   "outputs": [
    {
     "data": {
      "text/plain": [
       "torch.Size([32, 3, 32, 32])"
      ]
     },
     "execution_count": 46,
     "metadata": {},
     "output_type": "execute_result"
    }
   ],
   "source": [
    "delta_im.shape"
   ]
  },
  {
   "cell_type": "code",
   "execution_count": 53,
   "id": "af753388-2ccc-48ae-82c7-1e89533c65a0",
   "metadata": {},
   "outputs": [
    {
     "data": {
      "text/plain": [
       "tensor([[[[True, True, True,  ..., True, True, True],\n",
       "          [True, True, True,  ..., True, True, True],\n",
       "          [True, True, True,  ..., True, True, True],\n",
       "          ...,\n",
       "          [True, True, True,  ..., True, True, True],\n",
       "          [True, True, True,  ..., True, True, True],\n",
       "          [True, True, True,  ..., True, True, True]],\n",
       "\n",
       "         [[True, True, True,  ..., True, True, True],\n",
       "          [True, True, True,  ..., True, True, True],\n",
       "          [True, True, True,  ..., True, True, True],\n",
       "          ...,\n",
       "          [True, True, True,  ..., True, True, True],\n",
       "          [True, True, True,  ..., True, True, True],\n",
       "          [True, True, True,  ..., True, True, True]],\n",
       "\n",
       "         [[True, True, True,  ..., True, True, True],\n",
       "          [True, True, True,  ..., True, True, True],\n",
       "          [True, True, True,  ..., True, True, True],\n",
       "          ...,\n",
       "          [True, True, True,  ..., True, True, True],\n",
       "          [True, True, True,  ..., True, True, True],\n",
       "          [True, True, True,  ..., True, True, True]]],\n",
       "\n",
       "\n",
       "        [[[True, True, True,  ..., True, True, True],\n",
       "          [True, True, True,  ..., True, True, True],\n",
       "          [True, True, True,  ..., True, True, True],\n",
       "          ...,\n",
       "          [True, True, True,  ..., True, True, True],\n",
       "          [True, True, True,  ..., True, True, True],\n",
       "          [True, True, True,  ..., True, True, True]],\n",
       "\n",
       "         [[True, True, True,  ..., True, True, True],\n",
       "          [True, True, True,  ..., True, True, True],\n",
       "          [True, True, True,  ..., True, True, True],\n",
       "          ...,\n",
       "          [True, True, True,  ..., True, True, True],\n",
       "          [True, True, True,  ..., True, True, True],\n",
       "          [True, True, True,  ..., True, True, True]],\n",
       "\n",
       "         [[True, True, True,  ..., True, True, True],\n",
       "          [True, True, True,  ..., True, True, True],\n",
       "          [True, True, True,  ..., True, True, True],\n",
       "          ...,\n",
       "          [True, True, True,  ..., True, True, True],\n",
       "          [True, True, True,  ..., True, True, True],\n",
       "          [True, True, True,  ..., True, True, True]]],\n",
       "\n",
       "\n",
       "        [[[True, True, True,  ..., True, True, True],\n",
       "          [True, True, True,  ..., True, True, True],\n",
       "          [True, True, True,  ..., True, True, True],\n",
       "          ...,\n",
       "          [True, True, True,  ..., True, True, True],\n",
       "          [True, True, True,  ..., True, True, True],\n",
       "          [True, True, True,  ..., True, True, True]],\n",
       "\n",
       "         [[True, True, True,  ..., True, True, True],\n",
       "          [True, True, True,  ..., True, True, True],\n",
       "          [True, True, True,  ..., True, True, True],\n",
       "          ...,\n",
       "          [True, True, True,  ..., True, True, True],\n",
       "          [True, True, True,  ..., True, True, True],\n",
       "          [True, True, True,  ..., True, True, True]],\n",
       "\n",
       "         [[True, True, True,  ..., True, True, True],\n",
       "          [True, True, True,  ..., True, True, True],\n",
       "          [True, True, True,  ..., True, True, True],\n",
       "          ...,\n",
       "          [True, True, True,  ..., True, True, True],\n",
       "          [True, True, True,  ..., True, True, True],\n",
       "          [True, True, True,  ..., True, True, True]]],\n",
       "\n",
       "\n",
       "        ...,\n",
       "\n",
       "\n",
       "        [[[True, True, True,  ..., True, True, True],\n",
       "          [True, True, True,  ..., True, True, True],\n",
       "          [True, True, True,  ..., True, True, True],\n",
       "          ...,\n",
       "          [True, True, True,  ..., True, True, True],\n",
       "          [True, True, True,  ..., True, True, True],\n",
       "          [True, True, True,  ..., True, True, True]],\n",
       "\n",
       "         [[True, True, True,  ..., True, True, True],\n",
       "          [True, True, True,  ..., True, True, True],\n",
       "          [True, True, True,  ..., True, True, True],\n",
       "          ...,\n",
       "          [True, True, True,  ..., True, True, True],\n",
       "          [True, True, True,  ..., True, True, True],\n",
       "          [True, True, True,  ..., True, True, True]],\n",
       "\n",
       "         [[True, True, True,  ..., True, True, True],\n",
       "          [True, True, True,  ..., True, True, True],\n",
       "          [True, True, True,  ..., True, True, True],\n",
       "          ...,\n",
       "          [True, True, True,  ..., True, True, True],\n",
       "          [True, True, True,  ..., True, True, True],\n",
       "          [True, True, True,  ..., True, True, True]]],\n",
       "\n",
       "\n",
       "        [[[True, True, True,  ..., True, True, True],\n",
       "          [True, True, True,  ..., True, True, True],\n",
       "          [True, True, True,  ..., True, True, True],\n",
       "          ...,\n",
       "          [True, True, True,  ..., True, True, True],\n",
       "          [True, True, True,  ..., True, True, True],\n",
       "          [True, True, True,  ..., True, True, True]],\n",
       "\n",
       "         [[True, True, True,  ..., True, True, True],\n",
       "          [True, True, True,  ..., True, True, True],\n",
       "          [True, True, True,  ..., True, True, True],\n",
       "          ...,\n",
       "          [True, True, True,  ..., True, True, True],\n",
       "          [True, True, True,  ..., True, True, True],\n",
       "          [True, True, True,  ..., True, True, True]],\n",
       "\n",
       "         [[True, True, True,  ..., True, True, True],\n",
       "          [True, True, True,  ..., True, True, True],\n",
       "          [True, True, True,  ..., True, True, True],\n",
       "          ...,\n",
       "          [True, True, True,  ..., True, True, True],\n",
       "          [True, True, True,  ..., True, True, True],\n",
       "          [True, True, True,  ..., True, True, True]]],\n",
       "\n",
       "\n",
       "        [[[True, True, True,  ..., True, True, True],\n",
       "          [True, True, True,  ..., True, True, True],\n",
       "          [True, True, True,  ..., True, True, True],\n",
       "          ...,\n",
       "          [True, True, True,  ..., True, True, True],\n",
       "          [True, True, True,  ..., True, True, True],\n",
       "          [True, True, True,  ..., True, True, True]],\n",
       "\n",
       "         [[True, True, True,  ..., True, True, True],\n",
       "          [True, True, True,  ..., True, True, True],\n",
       "          [True, True, True,  ..., True, True, True],\n",
       "          ...,\n",
       "          [True, True, True,  ..., True, True, True],\n",
       "          [True, True, True,  ..., True, True, True],\n",
       "          [True, True, True,  ..., True, True, True]],\n",
       "\n",
       "         [[True, True, True,  ..., True, True, True],\n",
       "          [True, True, True,  ..., True, True, True],\n",
       "          [True, True, True,  ..., True, True, True],\n",
       "          ...,\n",
       "          [True, True, True,  ..., True, True, True],\n",
       "          [True, True, True,  ..., True, True, True],\n",
       "          [True, True, True,  ..., True, True, True]]]])"
      ]
     },
     "execution_count": 53,
     "metadata": {},
     "output_type": "execute_result"
    }
   ],
   "source": [
    "delta_im.eq(delta_im)"
   ]
  },
  {
   "cell_type": "code",
   "execution_count": null,
   "id": "7031c254-7c26-493c-aac9-0b51f42bace8",
   "metadata": {},
   "outputs": [],
   "source": []
  }
 ],
 "metadata": {
  "kernelspec": {
   "display_name": "Python 3 (ipykernel)",
   "language": "python",
   "name": "python3"
  },
  "language_info": {
   "codemirror_mode": {
    "name": "ipython",
    "version": 3
   },
   "file_extension": ".py",
   "mimetype": "text/x-python",
   "name": "python",
   "nbconvert_exporter": "python",
   "pygments_lexer": "ipython3",
   "version": "3.8.16"
  }
 },
 "nbformat": 4,
 "nbformat_minor": 5
}
