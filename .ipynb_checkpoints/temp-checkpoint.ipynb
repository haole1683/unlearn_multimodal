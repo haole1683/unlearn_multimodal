{
 "cells": [
  {
   "cell_type": "code",
   "execution_count": 5,
   "id": "27d5763f-0ca5-4ce8-bfe3-635b1aee2539",
   "metadata": {},
   "outputs": [],
   "source": [
    "from utils.data_utils import load_class_dataset, ToTensorTrans"
   ]
  },
  {
   "cell_type": "code",
   "execution_count": 7,
   "id": "523e3310-e838-4892-b496-9eab7ea5f3a5",
   "metadata": {},
   "outputs": [
    {
     "name": "stdout",
     "output_type": "stream",
     "text": [
      "Files already downloaded and verified\n",
      "Files already downloaded and verified\n"
     ]
    }
   ],
   "source": [
    "cifar10_train_ds, cifar10_test_ds = load_class_dataset(\"CIFAR10\", ToTensorTrans)"
   ]
  },
  {
   "cell_type": "code",
   "execution_count": 8,
   "id": "92b003ab-c080-4533-b066-1df6af963e6f",
   "metadata": {},
   "outputs": [
    {
     "data": {
      "text/plain": [
       "['airplane',\n",
       " 'automobile',\n",
       " 'bird',\n",
       " 'cat',\n",
       " 'deer',\n",
       " 'dog',\n",
       " 'frog',\n",
       " 'horse',\n",
       " 'ship',\n",
       " 'truck']"
      ]
     },
     "execution_count": 8,
     "metadata": {},
     "output_type": "execute_result"
    }
   ],
   "source": [
    "cifar10_train_ds.classes"
   ]
  },
  {
   "cell_type": "code",
   "execution_count": 10,
   "id": "47729df0-701f-4237-b576-ec5f43e2929b",
   "metadata": {},
   "outputs": [
    {
     "data": {
      "text/plain": [
       "0"
      ]
     },
     "execution_count": 10,
     "metadata": {},
     "output_type": "execute_result"
    }
   ],
   "source": [
    "cifar10_train_ds.class_to_idx['airplane']"
   ]
  },
  {
   "cell_type": "code",
   "execution_count": null,
   "id": "c21d9342-5bbf-4c07-83dc-1013fb00e4c3",
   "metadata": {},
   "outputs": [],
   "source": [
    "correct_count = {}"
   ]
  },
  {
   "cell_type": "code",
   "execution_count": null,
   "id": "05c60dea-0231-47a6-81e5-8b6497deb831",
   "metadata": {},
   "outputs": [],
   "source": [
    "for class_name in cifar10_train_ds.classes:\n",
    "    class_label = cifar10_train_ds.class_to_idx[class_name]\n",
    "    correct_count[class_name] += ((predicted == labels) & (labels == cat_label)).sum().item()"
   ]
  },
  {
   "cell_type": "code",
   "execution_count": 11,
   "id": "19fc3530-d7fb-4a59-8500-1ce783f18b6f",
   "metadata": {},
   "outputs": [],
   "source": [
    "\n",
    "def zero_shot_with_each_class_acc(test_dataloader,model,zeroshot_weights,device):\n",
    "    cat_correct, cat_total = 0,0\n",
    "    correct_count = {}\n",
    "\n",
    "    for class_name in test_dataloader.classes:\n",
    "        correct_count[class_name] = 0\n",
    "        \n",
    "    with torch.no_grad():\n",
    "        top1, top5, n = 0., 0., 0.\n",
    "        tgt_top1 = 0.\n",
    "        for i, (images, target) in enumerate(tqdm(test_dataloader)):\n",
    "            images = images.to(device)\n",
    "            target = target.to(device)\n",
    "\n",
    "            image_features = model.encode_image(images)\n",
    "                    \n",
    "            image_features /= image_features.norm(dim=-1, keepdim=True)\n",
    "            logits = 100. * image_features @ zeroshot_weights\n",
    "\n",
    "            # measure misclassification accuracy\n",
    "            acc1, acc5 = cal_accuracy(logits, target, topk=(1, 5))\n",
    "            top1 += acc1\n",
    "            top5 += acc5\n",
    "            \n",
    "            predicted = logits.argmax(1)\n",
    "\n",
    "            for class_name in cifar10_train_ds.classes:\n",
    "                class_label = cifar10_train_ds.class_to_idx[class_name]\n",
    "                correct_count[class_name] += ((predicted == labels) & (labels == class_label)).sum().item()\n",
    "                \n",
    "            n += images.size(0)\n",
    "\n",
    "    top1 = (top1 / n) * 100\n",
    "    top5 = (top5 / n) * 100\n",
    " \n",
    "    print(f\"Top-1 accuracy: {top1}\")\n",
    "    print(f\"Top-5 accuracy: {top5}\")\n",
    "    for key in correct_count.keys():\n",
    "        print(\"The category {} : acc: {}%\".format(key, correct_count[key] / 1000)\n",
    "    return top1, top5"
   ]
  },
  {
   "cell_type": "code",
   "execution_count": 1,
   "id": "0b00a561-bbd8-4564-958c-f040863b7aa4",
   "metadata": {},
   "outputs": [],
   "source": [
    "from utils.data_utils import ImageTextDatasetFromSupervisedDatasetPoison"
   ]
  },
  {
   "cell_type": "code",
   "execution_count": null,
   "id": "40da78f6-aba0-4ef9-bd73-08ca2b7bd894",
   "metadata": {},
   "outputs": [],
   "source": []
  },
  {
   "cell_type": "code",
   "execution_count": null,
   "id": "396a1e28-f1c8-4691-8435-e6d96ba1dccb",
   "metadata": {},
   "outputs": [],
   "source": []
  },
  {
   "cell_type": "code",
   "execution_count": 2,
   "id": "800a2a1d-3ca1-4936-985f-6959dd4863cb",
   "metadata": {},
   "outputs": [],
   "source": [
    "import torch"
   ]
  },
  {
   "cell_type": "code",
   "execution_count": 3,
   "id": "bb35e6c2-28d6-4dbf-856e-65aab282c09f",
   "metadata": {},
   "outputs": [],
   "source": [
    "noise_path = \"/remote-home/songtianwei/research/unlearn_multimodal/output/train_g_unlearn/cat_noise_ori_RN50.pt\""
   ]
  },
  {
   "cell_type": "code",
   "execution_count": 4,
   "id": "58dd3268-13f6-4f16-bf42-9a10e7a4f3b1",
   "metadata": {},
   "outputs": [],
   "source": [
    "noise = torch.load(noise_path)"
   ]
  },
  {
   "cell_type": "code",
   "execution_count": 5,
   "id": "9e451cee-53d8-40a6-8c08-40441334475c",
   "metadata": {},
   "outputs": [
    {
     "data": {
      "text/plain": [
       "torch.Size([3386, 3, 224, 224])"
      ]
     },
     "execution_count": 5,
     "metadata": {},
     "output_type": "execute_result"
    }
   ],
   "source": [
    "noise.shape"
   ]
  },
  {
   "cell_type": "code",
   "execution_count": 6,
   "id": "acdf7ec0-bbe2-4367-8798-0b7f45b306ac",
   "metadata": {},
   "outputs": [],
   "source": [
    "json_path = \"/remote-home/songtianwei/research/unlearn_multimodal/data/laion-cat-with-index.json\""
   ]
  },
  {
   "cell_type": "code",
   "execution_count": 9,
   "id": "01d15089-bb7e-4e1f-9134-9990eadd587f",
   "metadata": {},
   "outputs": [],
   "source": [
    "import json"
   ]
  },
  {
   "cell_type": "code",
   "execution_count": 10,
   "id": "52ba2a59-6dea-4664-abf2-03ec56c09812",
   "metadata": {},
   "outputs": [],
   "source": [
    "json_data = json.load(open(json_path, \"r\"))"
   ]
  },
  {
   "cell_type": "code",
   "execution_count": 11,
   "id": "4e093eb5-c6ca-4b35-8731-0c81c2003544",
   "metadata": {},
   "outputs": [
    {
     "data": {
      "text/plain": [
       "3386"
      ]
     },
     "execution_count": 11,
     "metadata": {},
     "output_type": "execute_result"
    }
   ],
   "source": [
    "len(json_data)"
   ]
  },
  {
   "cell_type": "code",
   "execution_count": null,
   "id": "e9b94068-5401-4201-9b5b-d3976296a47b",
   "metadata": {},
   "outputs": [],
   "source": []
  },
  {
   "cell_type": "code",
   "execution_count": null,
   "id": "ae778992-9c3a-4ed0-b40b-4d1f35831c91",
   "metadata": {},
   "outputs": [],
   "source": []
  },
  {
   "cell_type": "code",
   "execution_count": 2,
   "id": "58b03003-4dc0-4e3e-915e-8353ddebdde8",
   "metadata": {},
   "outputs": [],
   "source": [
    "from torchvision.datasets import  MNIST, CIFAR10, CIFAR100, ImageNet, STL10, GTSRB"
   ]
  },
  {
   "cell_type": "code",
   "execution_count": null,
   "id": "ec2e1812-58a8-4b17-a8c5-288c1a597a81",
   "metadata": {},
   "outputs": [],
   "source": [
    "unlearnable_train_dataset = STL10(root=os.path.expanduser(\"~/.cache\"), download=True, split='train', transform=transform)\n",
    "test_dataset = STL10(root=os.path.expanduser(\"~/.cache\"), download=True, split='test', transform=transform)"
   ]
  },
  {
   "cell_type": "code",
   "execution_count": null,
   "id": "3979bcf2-a7b3-43ad-9d45-701f83041972",
   "metadata": {},
   "outputs": [],
   "source": []
  }
 ],
 "metadata": {
  "kernelspec": {
   "display_name": "Python 3 (ipykernel)",
   "language": "python",
   "name": "python3"
  },
  "language_info": {
   "codemirror_mode": {
    "name": "ipython",
    "version": 3
   },
   "file_extension": ".py",
   "mimetype": "text/x-python",
   "name": "python",
   "nbconvert_exporter": "python",
   "pygments_lexer": "ipython3",
   "version": "3.9.1"
  }
 },
 "nbformat": 4,
 "nbformat_minor": 5
}
