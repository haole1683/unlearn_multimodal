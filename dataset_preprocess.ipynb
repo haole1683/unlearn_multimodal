{
 "cells": [
  {
   "cell_type": "code",
   "execution_count": 1,
   "id": "32b20259-134d-4042-909c-b232b03d6cb7",
   "metadata": {},
   "outputs": [],
   "source": [
    "import json "
   ]
  },
  {
   "cell_type": "code",
   "execution_count": 2,
   "id": "8a12c64b-50e4-4458-af68-80ef91656fc4",
   "metadata": {},
   "outputs": [],
   "source": [
    "laion_json_path = \"/remote-home/songtianwei/research/unlearn_multimodal/data/laion_cifar10.json\""
   ]
  },
  {
   "cell_type": "code",
   "execution_count": 4,
   "id": "b319a47a-8cce-449b-ae1c-269edbb58e37",
   "metadata": {},
   "outputs": [],
   "source": [
    "json_data = json.load(open(laion_json_path,\"r\"))"
   ]
  },
  {
   "cell_type": "code",
   "execution_count": 7,
   "id": "cacbb929-8a5e-4771-92cd-98ca7411e210",
   "metadata": {},
   "outputs": [],
   "source": [
    "# 根据特定类别筛选指定类别数据集"
   ]
  },
  {
   "cell_type": "code",
   "execution_count": 13,
   "id": "7930e85d-4b99-4087-a02b-ebc152439eaa",
   "metadata": {},
   "outputs": [],
   "source": [
    "tgt_class_name = 'truck'\n",
    "\n",
    "tgt_data = []\n",
    "not_tgt_data = []"
   ]
  },
  {
   "cell_type": "code",
   "execution_count": 14,
   "id": "b29803bd-9a1f-4967-afe5-aa8caf65e149",
   "metadata": {},
   "outputs": [],
   "source": [
    "for data in json_data:\n",
    "    class_name = data['class']\n",
    "    \n",
    "    if class_name == tgt_class_name:\n",
    "        tgt_data.append(data)\n",
    "    else:\n",
    "        not_tgt_data.append(data)"
   ]
  },
  {
   "cell_type": "code",
   "execution_count": 15,
   "id": "03d8235f-4056-4782-88a9-a13da4658b7f",
   "metadata": {},
   "outputs": [
    {
     "data": {
      "text/plain": [
       "2551"
      ]
     },
     "execution_count": 15,
     "metadata": {},
     "output_type": "execute_result"
    }
   ],
   "source": [
    "len(tgt_data)"
   ]
  },
  {
   "cell_type": "code",
   "execution_count": 16,
   "id": "e04e70f6-0374-46a0-a696-b7ade39e15f7",
   "metadata": {},
   "outputs": [
    {
     "data": {
      "text/plain": [
       "43670"
      ]
     },
     "execution_count": 16,
     "metadata": {},
     "output_type": "execute_result"
    }
   ],
   "source": [
    "len(not_tgt_data)"
   ]
  },
  {
   "cell_type": "code",
   "execution_count": 17,
   "id": "cd40f967-88e3-4740-907f-faa436a43d32",
   "metadata": {},
   "outputs": [
    {
     "data": {
      "text/plain": [
       "46221"
      ]
     },
     "execution_count": 17,
     "metadata": {},
     "output_type": "execute_result"
    }
   ],
   "source": [
    "len(json_data)"
   ]
  },
  {
   "cell_type": "code",
   "execution_count": 18,
   "id": "3c223d1a-fe5a-4b8b-a509-f4e58efb5dfd",
   "metadata": {},
   "outputs": [],
   "source": [
    "file_name = f\"laion-{tgt_class_name}.json\""
   ]
  },
  {
   "cell_type": "code",
   "execution_count": 19,
   "id": "6afea93d-bcf7-497e-90a5-cd079590d1f9",
   "metadata": {},
   "outputs": [],
   "source": [
    "json_save_path = \"/remote-home/songtianwei/research/unlearn_multimodal/data\""
   ]
  },
  {
   "cell_type": "code",
   "execution_count": 20,
   "id": "09fd6136-c9d1-4539-a93d-bdc34585b0df",
   "metadata": {},
   "outputs": [],
   "source": [
    "import os"
   ]
  },
  {
   "cell_type": "code",
   "execution_count": 21,
   "id": "b1c12c61-7062-4edb-8e75-97e8ab26f8b7",
   "metadata": {},
   "outputs": [],
   "source": [
    "json.dump(tgt_data,open(os.path.join(json_save_path,file_name),\"w\"))"
   ]
  },
  {
   "cell_type": "code",
   "execution_count": 22,
   "id": "ade05d38-4073-4d3a-a386-5854a354bead",
   "metadata": {},
   "outputs": [],
   "source": [
    "not_tgt_file_name = f\"laion-no-{tgt_class_name}.json\""
   ]
  },
  {
   "cell_type": "code",
   "execution_count": 23,
   "id": "45a82886-1c41-491d-8efd-b325381760b7",
   "metadata": {},
   "outputs": [],
   "source": [
    "json.dump(tgt_data,open(os.path.join(json_save_path,not_tgt_file_name),\"w\"))"
   ]
  },
  {
   "cell_type": "code",
   "execution_count": null,
   "id": "ace528c6-155d-4bff-9316-2260c2d7066d",
   "metadata": {},
   "outputs": [],
   "source": []
  }
 ],
 "metadata": {
  "kernelspec": {
   "display_name": "Python 3 (ipykernel)",
   "language": "python",
   "name": "python3"
  },
  "language_info": {
   "codemirror_mode": {
    "name": "ipython",
    "version": 3
   },
   "file_extension": ".py",
   "mimetype": "text/x-python",
   "name": "python",
   "nbconvert_exporter": "python",
   "pygments_lexer": "ipython3",
   "version": "3.9.1"
  }
 },
 "nbformat": 4,
 "nbformat_minor": 5
}
